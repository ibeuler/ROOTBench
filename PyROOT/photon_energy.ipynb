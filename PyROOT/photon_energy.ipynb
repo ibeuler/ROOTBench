{
 "cells": [
  {
   "cell_type": "code",
   "execution_count": 18,
   "metadata": {},
   "outputs": [
    {
     "name": "stdout",
     "output_type": "stream",
     "text": [
      "data_A.GamGam.root  data_B.GamGam.root\tdata_C.GamGam.root  data_D.GamGam.root\n"
     ]
    }
   ],
   "source": [
    "\n",
    "!ls ../DATA"
   ]
  },
  {
   "cell_type": "code",
   "execution_count": 2,
   "metadata": {},
   "outputs": [
    {
     "name": "stdout",
     "output_type": "stream",
     "text": [
      "Defaulting to user installation because normal site-packages is not writeable\n",
      "Requirement already satisfied: pip in /home/ibeuler/.local/lib/python3.10/site-packages (25.0.1)\n"
     ]
    }
   ],
   "source": [
    "!pip install --upgrade pip"
   ]
  },
  {
   "cell_type": "code",
   "execution_count": 11,
   "metadata": {},
   "outputs": [
    {
     "name": "stdout",
     "output_type": "stream",
     "text": [
      "Defaulting to user installation because normal site-packages is not writeable\n",
      "Requirement already satisfied: numpy in /home/ibeuler/.local/lib/python3.10/site-packages (2.2.3)\n"
     ]
    }
   ],
   "source": [
    "!pip3 install --upgrade numpy"
   ]
  },
  {
   "cell_type": "code",
   "execution_count": 3,
   "metadata": {},
   "outputs": [
    {
     "name": "stdout",
     "output_type": "stream",
     "text": [
      "2.2.3\n"
     ]
    }
   ],
   "source": [
    "import numpy as np\n",
    "print(np.__version__)\n"
   ]
  },
  {
   "cell_type": "code",
   "execution_count": 1,
   "metadata": {},
   "outputs": [
    {
     "ename": "ModuleNotFoundError",
     "evalue": "No module named 'ROOT'",
     "output_type": "error",
     "traceback": [
      "\u001b[1;31m---------------------------------------------------------------------------\u001b[0m",
      "\u001b[1;31mModuleNotFoundError\u001b[0m                       Traceback (most recent call last)",
      "Cell \u001b[1;32mIn[1], line 1\u001b[0m\n\u001b[1;32m----> 1\u001b[0m \u001b[38;5;28;01mimport\u001b[39;00m \u001b[38;5;21;01mROOT\u001b[39;00m\n",
      "\u001b[1;31mModuleNotFoundError\u001b[0m: No module named 'ROOT'"
     ]
    }
   ],
   "source": [
    "\n",
    "import ROOT"
   ]
  },
  {
   "cell_type": "code",
   "execution_count": 2,
   "metadata": {},
   "outputs": [
    {
     "ename": "NameError",
     "evalue": "name 'ROOT' is not defined",
     "output_type": "error",
     "traceback": [
      "\u001b[1;31m---------------------------------------------------------------------------\u001b[0m",
      "\u001b[1;31mNameError\u001b[0m                                 Traceback (most recent call last)",
      "Cell \u001b[1;32mIn[2], line 40\u001b[0m\n\u001b[0;32m     36\u001b[0m     c1\u001b[38;5;241m.\u001b[39mSaveAs(\u001b[38;5;124m\"\u001b[39m\u001b[38;5;124mphoton_energy_pyroot.png\u001b[39m\u001b[38;5;124m\"\u001b[39m)\n\u001b[0;32m     38\u001b[0m     file\u001b[38;5;241m.\u001b[39mClose()\n\u001b[1;32m---> 40\u001b[0m \u001b[43mplot_photon_energy\u001b[49m\u001b[43m(\u001b[49m\u001b[43m)\u001b[49m\n",
      "Cell \u001b[1;32mIn[2], line 3\u001b[0m, in \u001b[0;36mplot_photon_energy\u001b[1;34m()\u001b[0m\n\u001b[0;32m      1\u001b[0m \u001b[38;5;28;01mdef\u001b[39;00m \u001b[38;5;21mplot_photon_energy\u001b[39m():\n\u001b[1;32m----> 3\u001b[0m     file \u001b[38;5;241m=\u001b[39m \u001b[43mROOT\u001b[49m\u001b[38;5;241m.\u001b[39mTFile\u001b[38;5;241m.\u001b[39mOpen(\u001b[38;5;124m\"\u001b[39m\u001b[38;5;124m../DATA/data_A.GamGam.root\u001b[39m\u001b[38;5;124m\"\u001b[39m)\n\u001b[0;32m      4\u001b[0m     \u001b[38;5;28;01mif\u001b[39;00m \u001b[38;5;129;01mnot\u001b[39;00m file \u001b[38;5;129;01mor\u001b[39;00m file\u001b[38;5;241m.\u001b[39mIsZombie():\n\u001b[0;32m      5\u001b[0m         \u001b[38;5;28mprint\u001b[39m(\u001b[38;5;124m\"\u001b[39m\u001b[38;5;124mError: Cannot open file!\u001b[39m\u001b[38;5;124m\"\u001b[39m)\n",
      "\u001b[1;31mNameError\u001b[0m: name 'ROOT' is not defined"
     ]
    }
   ],
   "source": [
    "def plot_photon_energy():\n",
    "\n",
    "    file = ROOT.TFile.Open(\"../DATA/data_A.GamGam.root\")\n",
    "    if not file or file.IsZombie():\n",
    "        print(\"Error: Cannot open file!\")\n",
    "        return\n",
    "\n",
    "    tree = file.Get(\"mini\")\n",
    "    if not tree:\n",
    "        print(\"Error: TTree 'mini' not found!\")\n",
    "        file.Close()\n",
    "        return\n",
    "\n",
    "    if not tree.GetBranch(\"photon_E\"):\n",
    "        print(\"Error: Branch 'photon_E' not found!\")\n",
    "        file.Close()\n",
    "        return\n",
    "\n",
    "    hPhotonE = ROOT.TH1F(\"hPhotonE\", \"Photon Energy Distribution;Energy (MeV);Events\", 50, 0, 400000)\n",
    "\n",
    "    photon_E = ROOT.std.vector('float')() \n",
    "    tree.SetBranchAddress(\"photon_E\", photon_E)\n",
    "    \n",
    "    nentries = tree.GetEntries()\n",
    "    print(nentries)\n",
    "    for i in range(nentries):\n",
    "        tree.GetEntry(i)\n",
    "        for energy in photon_E:\n",
    "            hPhotonE.Fill(energy)\n",
    "\n",
    "    \n",
    "    c1 = ROOT.TCanvas(\"c1\", \"Photon Energy\", 800, 600)\n",
    "    hPhotonE.SetLineColor(ROOT.kBlue)\n",
    "    hPhotonE.Draw()\n",
    "    \n",
    "    c1.SaveAs(\"photon_energy_pyroot.png\")\n",
    "\n",
    "    file.Close()\n",
    "\n",
    "plot_photon_energy()\n"
   ]
  },
  {
   "cell_type": "code",
   "execution_count": null,
   "metadata": {},
   "outputs": [],
   "source": []
  },
  {
   "cell_type": "code",
   "execution_count": 3,
   "metadata": {},
   "outputs": [
    {
     "data": {
      "image/png": "[encoded data removed]",
      "text/plain": [
       "<IPython.core.display.Image object>"
      ]
     },
     "metadata": {},
     "output_type": "display_data"
    }
   ],
   "source": [
    "from IPython.display import display, Image\n",
    "\n",
    "display(Image(filename=\"photon_energy_pyroot.png\"))\n"
   ]
  },
  {
   "cell_type": "code",
   "execution_count": null,
   "metadata": {},
   "outputs": [],
   "source": []
  },
  {
   "cell_type": "code",
   "execution_count": null,
   "metadata": {},
   "outputs": [],
   "source": []
  },
  {
   "cell_type": "code",
   "execution_count": null,
   "metadata": {},
   "outputs": [],
   "source": []
  }
 ],
 "metadata": {
  "kernelspec": {
   "display_name": "Python 3",
   "language": "python",
   "name": "python3"
  },
  "language_info": {
   "codemirror_mode": {
    "name": "ipython",
    "version": 3
   },
   "file_extension": ".py",
   "mimetype": "text/x-python",
   "name": "python",
   "nbconvert_exporter": "python",
   "pygments_lexer": "ipython3",
   "version": "3.11.6"
  }
 },
 "nbformat": 4,
 "nbformat_minor": 4
}
